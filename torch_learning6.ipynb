{
 "cells": [
  {
   "cell_type": "code",
   "execution_count": 1,
   "metadata": {},
   "outputs": [],
   "source": [
    "#应用RNN的简单神经网络\n",
    "import torch\n",
    "from torch.autograd import Variable\n",
    "from torch import nn\n",
    "import torchvision.datasets as dsets\n",
    "import torchvision.transforms as transforms\n",
    "import matplotlib.pyplot as plt"
   ]
  },
  {
   "cell_type": "code",
   "execution_count": 2,
   "metadata": {},
   "outputs": [],
   "source": [
    "#超参数\n",
    "EPOCH = 1 #训练整批数据集多少次\n",
    "BATCH_SIZE = 64#将数据分成的单元的容量\n",
    "TIME_STEP = 28 #rnn时间步数/图片高度 \n",
    "\"\"\"时间步数就是rnn当前的状态往前关联的状态数量，\n",
    "   本题的输入是将图片按行像素输入，所以也可理解为图片的高度\n",
    "\"\"\"\n",
    "IMPUT_SIZE = 28 #RNN每步的输入值/图片每行的像素\n",
    "LR = 0.01 #LEARNING RATE\n",
    "DOWNLOAD_MNIST = True #如果已经下载好了mnist数据就填False\n"
   ]
  },
  {
   "cell_type": "code",
   "execution_count": 3,
   "metadata": {},
   "outputs": [
    {
     "name": "stdout",
     "output_type": "stream",
     "text": [
      "Downloading http://yann.lecun.com/exdb/mnist/train-images-idx3-ubyte.gz\n",
      "Downloading http://yann.lecun.com/exdb/mnist/train-labels-idx1-ubyte.gz\n",
      "Downloading http://yann.lecun.com/exdb/mnist/t10k-images-idx3-ubyte.gz\n",
      "Downloading http://yann.lecun.com/exdb/mnist/t10k-labels-idx1-ubyte.gz\n",
      "Processing...\n",
      "Done!\n"
     ]
    }
   ],
   "source": [
    "#设定训练集\n",
    "train_data = dsets.MNIST(\n",
    "    root = '~/code/DATA/',#保存提取位置\n",
    "    train = True, #这是一个训练集\n",
    "    transform = transforms.ToTensor(),\n",
    "    download = True\n",
    " ) \n"
   ]
  },
  {
   "cell_type": "code",
   "execution_count": 4,
   "metadata": {},
   "outputs": [
    {
     "name": "stdout",
     "output_type": "stream",
     "text": [
      "torch.Size([60000, 28, 28])\n",
      "torch.Size([60000])\n"
     ]
    },
    {
     "data": {
      "image/png": "[encoded data removed]",
      "text/plain": [
       "<Figure size 432x288 with 1 Axes>"
      ]
     },
     "metadata": {},
     "output_type": "display_data"
    }
   ],
   "source": [
    "#打印一个范例\n",
    "print(train_data.train_data.size())\n",
    "print(train_data.train_labels.size())\n",
    "plt.imshow(train_data.train_data[0].numpy(),cmap = 'gray')\n",
    "plt.title('%i' % train_data.train_labels[0])\n",
    "plt.show()"
   ]
  },
  {
   "cell_type": "code",
   "execution_count": 5,
   "metadata": {},
   "outputs": [],
   "source": [
    "#读取器，用以自动迭代生成数据集\n",
    "train_loader = torch.utils.data.DataLoader(dataset = train_data, batch_size = BATCH_SIZE, shuffle = True)"
   ]
  },
  {
   "cell_type": "code",
   "execution_count": 7,
   "metadata": {},
   "outputs": [],
   "source": [
    "#将测试集转换成Variable\n",
    "test_data = dsets.MNIST(root = '~/code/DATA/', train = False, transform = transforms.ToTensor())\n",
    "test_x = test_data.test_data.type(torch.FloatTensor)[:2000]/255 #shape(2000,28,28) value in range（0，1）\n",
    "test_y = test_data.test_labels.numpy().squeeze()[:2000]#variable数据类型至少有两维"
   ]
  },
  {
   "cell_type": "code",
   "execution_count": 9,
   "metadata": {},
   "outputs": [],
   "source": [
    "#定义RNN\n",
    "class RNN(nn.Module):\n",
    "    def __init__(self):\n",
    "        super(RNN,self).__init__()\n",
    "        \n",
    "        self.rnn = nn.LSTM(\n",
    "            input_size = 28, #图片每行的像素点\n",
    "            hidden_size = 64, #隐藏层的神经元数\n",
    "            num_layers = 1, #rnn layers\n",
    "            batch_first = True\n",
    "        )\n",
    "        \n",
    "        self.out = nn.Linear(64,10)\n",
    "        \n",
    "    def forward(self,x):\n",
    "         #x shape (batch, time_step, input_size)\n",
    "        #r_out shape (batch, time_step, output_size)\n",
    "        #h_n shape (n_layers, batch, hidden_size)\n",
    "        #h_c shape (n_layers, batch, hidden_size)\n",
    "        r_out, (h_n, h_c) = self.rnn(x, None) #None 表示hidden state 会用全0的state\n",
    "        \n",
    "        #choose r_out at the last time step\n",
    "        out = self.out(r_out[:,-1.:])\n",
    "        return out"
   ]
  },
  {
   "cell_type": "code",
   "execution_count": null,
   "metadata": {},
   "outputs": [],
   "source": [
    "rnn = RNN"
   ]
  }
 ],
 "metadata": {
  "kernelspec": {
   "display_name": "Python 3",
   "language": "python",
   "name": "python3"
  },
  "language_info": {
   "codemirror_mode": {
    "name": "ipython",
    "version": 3
   },
   "file_extension": ".py",
   "mimetype": "text/x-python",
   "name": "python",
   "nbconvert_exporter": "python",
   "pygments_lexer": "ipython3",
   "version": "3.6.6"
  }
 },
 "nbformat": 4,
 "nbformat_minor": 2
}
